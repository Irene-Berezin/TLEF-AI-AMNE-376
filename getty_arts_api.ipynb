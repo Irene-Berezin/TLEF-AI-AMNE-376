{
 "cells": [
  {
   "cell_type": "code",
   "execution_count": 6,
   "id": "b8f33e33",
   "metadata": {},
   "outputs": [],
   "source": [
    "import requests, time, os, json"
   ]
  },
  {
   "cell_type": "code",
   "execution_count": 7,
   "id": "9ffc9885",
   "metadata": {},
   "outputs": [
    {
     "ename": "HTTPError",
     "evalue": "503 Server Error: Service Temporarily Unavailable for url: https://data.getty.edu/museum/api/iiif/103SPM/manifest.json",
     "output_type": "error",
     "traceback": [
      "\u001b[1;31m---------------------------------------------------------------------------\u001b[0m",
      "\u001b[1;31mHTTPError\u001b[0m                                 Traceback (most recent call last)",
      "Cell \u001b[1;32mIn[7], line 10\u001b[0m\n\u001b[0;32m      8\u001b[0m manifest_url \u001b[38;5;241m=\u001b[39m \u001b[38;5;124mf\u001b[39m\u001b[38;5;124m\"\u001b[39m\u001b[38;5;132;01m{\u001b[39;00miiif_base\u001b[38;5;132;01m}\u001b[39;00m\u001b[38;5;124m/\u001b[39m\u001b[38;5;132;01m{\u001b[39;00moid\u001b[38;5;132;01m}\u001b[39;00m\u001b[38;5;124m/manifest.json\u001b[39m\u001b[38;5;124m\"\u001b[39m\n\u001b[0;32m      9\u001b[0m r \u001b[38;5;241m=\u001b[39m requests\u001b[38;5;241m.\u001b[39mget(manifest_url)\n\u001b[1;32m---> 10\u001b[0m \u001b[43mr\u001b[49m\u001b[38;5;241;43m.\u001b[39;49m\u001b[43mraise_for_status\u001b[49m\u001b[43m(\u001b[49m\u001b[43m)\u001b[49m           \u001b[38;5;66;03m# will stop if anything goes wrong\u001b[39;00m\n\u001b[0;32m     12\u001b[0m manifest \u001b[38;5;241m=\u001b[39m r\u001b[38;5;241m.\u001b[39mjson()\n\u001b[0;32m     14\u001b[0m \u001b[38;5;66;03m# 2) Extract core metadata\u001b[39;00m\n",
      "File \u001b[1;32mc:\\Users\\Kaiyan Zhang\\AppData\\Local\\Programs\\Python\\Python312\\Lib\\site-packages\\requests\\models.py:1024\u001b[0m, in \u001b[0;36mResponse.raise_for_status\u001b[1;34m(self)\u001b[0m\n\u001b[0;32m   1019\u001b[0m     http_error_msg \u001b[38;5;241m=\u001b[39m (\n\u001b[0;32m   1020\u001b[0m         \u001b[38;5;124mf\u001b[39m\u001b[38;5;124m\"\u001b[39m\u001b[38;5;132;01m{\u001b[39;00m\u001b[38;5;28mself\u001b[39m\u001b[38;5;241m.\u001b[39mstatus_code\u001b[38;5;132;01m}\u001b[39;00m\u001b[38;5;124m Server Error: \u001b[39m\u001b[38;5;132;01m{\u001b[39;00mreason\u001b[38;5;132;01m}\u001b[39;00m\u001b[38;5;124m for url: \u001b[39m\u001b[38;5;132;01m{\u001b[39;00m\u001b[38;5;28mself\u001b[39m\u001b[38;5;241m.\u001b[39murl\u001b[38;5;132;01m}\u001b[39;00m\u001b[38;5;124m\"\u001b[39m\n\u001b[0;32m   1021\u001b[0m     )\n\u001b[0;32m   1023\u001b[0m \u001b[38;5;28;01mif\u001b[39;00m http_error_msg:\n\u001b[1;32m-> 1024\u001b[0m     \u001b[38;5;28;01mraise\u001b[39;00m HTTPError(http_error_msg, response\u001b[38;5;241m=\u001b[39m\u001b[38;5;28mself\u001b[39m)\n",
      "\u001b[1;31mHTTPError\u001b[0m: 503 Server Error: Service Temporarily Unavailable for url: https://data.getty.edu/museum/api/iiif/103SPM/manifest.json"
     ]
    }
   ],
   "source": [
    "# 1) Configure\n",
    "object_ids = [\"103SPM\", \"109Q8G\", \"107HB7\"]\n",
    "iiif_base   = \"https://data.getty.edu/museum/api/iiif\"\n",
    "out_dir     = \"greek_statues\"\n",
    "os.makedirs(out_dir, exist_ok=True)\n",
    "\n",
    "for oid in object_ids:\n",
    "    manifest_url = f\"{iiif_base}/{oid}/manifest.json\"\n",
    "    r = requests.get(manifest_url)\n",
    "    r.raise_for_status()           # will stop if anything goes wrong\n",
    "\n",
    "    manifest = r.json()\n",
    "\n",
    "    # 2) Extract core metadata\n",
    "    title = manifest.get(\"label\", \"Untitled\")\n",
    "    meta  = {m[\"label\"]: m[\"value\"] for m in manifest.get(\"metadata\", [])}\n",
    "    date        = meta.get(\"Date\", meta.get(\"Display Date\", \"Unknown\"))\n",
    "    description = meta.get(\"Description\", \"No description available\")\n",
    "\n",
    "    print(f\"{oid} → {title} ({date})\")\n",
    "\n",
    "    # 3) Pull the IIIF Image service URL\n",
    "    svc = (\n",
    "        manifest[\"sequences\"][0]\n",
    "                [\"canvases\"][0]\n",
    "                [\"images\"][0]\n",
    "                [\"resource\"]\n",
    "                [\"service\"]\n",
    "                [\"@id\"]\n",
    "    )\n",
    "\n",
    "    # 4) Download an 800 px-wide JPEG\n",
    "    img_url = f\"{svc}/full/800,/0/default.jpg\"\n",
    "    img_data = requests.get(img_url).content\n",
    "    img_path = os.path.join(out_dir, f\"{oid}.jpg\")\n",
    "    with open(img_path, \"wb\") as img_f:\n",
    "        img_f.write(img_data)\n",
    "\n",
    "    # 5) Save metadata to a JSON file alongside\n",
    "    meta_path = os.path.join(out_dir, f\"{oid}.json\")\n",
    "    with open(meta_path, \"w\", encoding=\"utf-8\") as json_f:\n",
    "        json.dump({\n",
    "            \"id\": oid,\n",
    "            \"title\": title,\n",
    "            \"date\": date,\n",
    "            \"description\": description,\n",
    "            \"iiif_service\": svc\n",
    "        }, json_f, indent=2, ensure_ascii=False)\n",
    "\n",
    "    print(f\" • Saved image → {img_path}\")\n",
    "    print(f\" • Saved metadata → {meta_path}\\n\")\n"
   ]
  },
  {
   "cell_type": "code",
   "execution_count": null,
   "id": "a3f1a19e",
   "metadata": {},
   "outputs": [],
   "source": []
  }
 ],
 "metadata": {
  "kernelspec": {
   "display_name": "Python 3",
   "language": "python",
   "name": "python3"
  },
  "language_info": {
   "codemirror_mode": {
    "name": "ipython",
    "version": 3
   },
   "file_extension": ".py",
   "mimetype": "text/x-python",
   "name": "python",
   "nbconvert_exporter": "python",
   "pygments_lexer": "ipython3",
   "version": "3.12.5"
  }
 },
 "nbformat": 4,
 "nbformat_minor": 5
}
